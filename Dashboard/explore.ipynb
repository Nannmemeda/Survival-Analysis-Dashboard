{
 "cells": [
  {
   "cell_type": "code",
   "execution_count": 1,
   "id": "f588a810",
   "metadata": {},
   "outputs": [],
   "source": [
    "import pandas as pd"
   ]
  },
  {
   "cell_type": "code",
   "execution_count": 2,
   "id": "320ab7a1",
   "metadata": {},
   "outputs": [],
   "source": [
    "df = pd.read_csv('cleaned_SEER.csv')"
   ]
  },
  {
   "cell_type": "code",
   "execution_count": 3,
   "id": "bbb0bdf0",
   "metadata": {},
   "outputs": [
    {
     "data": {
      "text/plain": [
       "Stage\n",
       "Localized only                                                  204787\n",
       "Regional lymph nodes involved only                               72125\n",
       "Distant site(s)/node(s) involved                                 17961\n",
       "Regional by both direct extension and lymph node involvement     10484\n",
       "Regional by direct extension only                                 5695\n",
       "Unknown/unstaged/unspecified/DCO                                  3848\n",
       "Regional, NOS                                                       35\n",
       "Name: count, dtype: int64"
      ]
     },
     "execution_count": 3,
     "metadata": {},
     "output_type": "execute_result"
    }
   ],
   "source": [
    "df['Stage'].value_counts()"
   ]
  },
  {
   "cell_type": "code",
   "execution_count": null,
   "id": "74e9b507",
   "metadata": {},
   "outputs": [],
   "source": []
  }
 ],
 "metadata": {
  "kernelspec": {
   "display_name": ".venv",
   "language": "python",
   "name": "python3"
  },
  "language_info": {
   "codemirror_mode": {
    "name": "ipython",
    "version": 3
   },
   "file_extension": ".py",
   "mimetype": "text/x-python",
   "name": "python",
   "nbconvert_exporter": "python",
   "pygments_lexer": "ipython3",
   "version": "3.13.5"
  }
 },
 "nbformat": 4,
 "nbformat_minor": 5
}
